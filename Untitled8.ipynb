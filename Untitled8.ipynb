{
  "nbformat": 4,
  "nbformat_minor": 0,
  "metadata": {
    "colab": {
      "name": "Untitled8.ipynb",
      "provenance": [],
      "include_colab_link": true
    },
    "kernelspec": {
      "name": "python3",
      "display_name": "Python 3"
    }
  },
  "cells": [
    {
      "cell_type": "markdown",
      "metadata": {
        "id": "view-in-github",
        "colab_type": "text"
      },
      "source": [
        "<a href=\"https://colab.research.google.com/github/qscfgyuj/Python1/blob/master/Untitled8.ipynb\" target=\"_parent\"><img src=\"https://colab.research.google.com/assets/colab-badge.svg\" alt=\"Open In Colab\"/></a>"
      ]
    },
    {
      "cell_type": "code",
      "metadata": {
        "id": "rx4VhElvsJ0B",
        "colab_type": "code",
        "colab": {
          "base_uri": "https://localhost:8080/",
          "height": 102
        },
        "outputId": "cf39d03a-9570-444a-afcc-a69bb331ba93"
      },
      "source": [
        "for number in [1,2,3,4,5]:\n",
        "    print(number)"
      ],
      "execution_count": 6,
      "outputs": [
        {
          "output_type": "stream",
          "text": [
            "1\n",
            "2\n",
            "3\n",
            "4\n",
            "5\n"
          ],
          "name": "stdout"
        }
      ]
    },
    {
      "cell_type": "code",
      "metadata": {
        "id": "XFtUg1C5sqP5",
        "colab_type": "code",
        "colab": {
          "base_uri": "https://localhost:8080/",
          "height": 102
        },
        "outputId": "001633a7-2033-4daa-c9ef-eefa37e571a4"
      },
      "source": [
        "I = iter([1,2,3,4,5])\n",
        "print(next(I))\n",
        "print(next(I))\n",
        "print(next(I))\n",
        "print(next(I))\n",
        "print(next(I))"
      ],
      "execution_count": 7,
      "outputs": [
        {
          "output_type": "stream",
          "text": [
            "1\n",
            "2\n",
            "3\n",
            "4\n",
            "5\n"
          ],
          "name": "stdout"
        }
      ]
    },
    {
      "cell_type": "code",
      "metadata": {
        "id": "jt4IxdSys2wY",
        "colab_type": "code",
        "colab": {}
      },
      "source": [
        "range(10)\n",
        "iter(range(10))"
      ],
      "execution_count": 0,
      "outputs": []
    },
    {
      "cell_type": "code",
      "metadata": {
        "id": "8c-Ee8wXtB2A",
        "colab_type": "code",
        "colab": {}
      },
      "source": [
        "L = [1,2,3,4,5]\n",
        "for index. value in enumerate(L):\n",
        "  print(index, value)\n",
        "  "
      ],
      "execution_count": 0,
      "outputs": []
    },
    {
      "cell_type": "code",
      "metadata": {
        "id": "rNtDl13OtUiB",
        "colab_type": "code",
        "colab": {}
      },
      "source": [
        "for i in range(len(L)):\n",
        "  print(i. L[i])"
      ],
      "execution_count": 0,
      "outputs": []
    },
    {
      "cell_type": "code",
      "metadata": {
        "id": "EOG1NObFtph-",
        "colab_type": "code",
        "colab": {}
      },
      "source": [
        "from itertools import permutations\n",
        "p = permutations(3)\n",
        "print(*p)"
      ],
      "execution_count": 0,
      "outputs": []
    },
    {
      "cell_type": "code",
      "metadata": {
        "id": "mXeozEeCt5lz",
        "colab_type": "code",
        "colab": {}
      },
      "source": [
        "names = [\"Barney\",\"Robin\",\"Ted\",\"Lily\",\"Marshall\"]\n",
        "age = [16,20,24,18,30]\n",
        "people = dict(zip(names,age))\n",
        "print(people)"
      ],
      "execution_count": 0,
      "outputs": []
    }
  ]
}