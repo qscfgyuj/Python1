{
  "nbformat": 4,
  "nbformat_minor": 0,
  "metadata": {
    "colab": {
      "name": "Untitled6.ipynb",
      "provenance": [],
      "include_colab_link": true
    },
    "kernelspec": {
      "name": "python3",
      "display_name": "Python 3"
    }
  },
  "cells": [
    {
      "cell_type": "markdown",
      "metadata": {
        "id": "view-in-github",
        "colab_type": "text"
      },
      "source": [
        "<a href=\"https://colab.research.google.com/github/qscfgyuj/Python1/blob/master/%E8%AA%B2%E9%A1%8C7.ipynb\" target=\"_parent\"><img src=\"https://colab.research.google.com/assets/colab-badge.svg\" alt=\"Open In Colab\"/></a>"
      ]
    },
    {
      "cell_type": "code",
      "metadata": {
        "id": "KCmCCl-jbQCF",
        "colab_type": "code",
        "colab": {}
      },
      "source": [
        "i=0\n",
        "while i<11:\n",
        "  i += 1\n",
        "  print(i)"
      ],
      "execution_count": 0,
      "outputs": []
    },
    {
      "cell_type": "code",
      "metadata": {
        "id": "SyMcPSF0d5GR",
        "colab_type": "code",
        "colab": {
          "base_uri": "https://localhost:8080/",
          "height": 204
        },
        "outputId": "75c38076-ad6d-41f6-8ed1-6c32d5671158"
      },
      "source": [
        "b=0\n",
        "for i in range (11):\n",
        "  b=i+b\n",
        "  print(b)"
      ],
      "execution_count": 40,
      "outputs": [
        {
          "output_type": "stream",
          "text": [
            "0\n",
            "1\n",
            "3\n",
            "6\n",
            "10\n",
            "15\n",
            "21\n",
            "28\n",
            "36\n",
            "45\n",
            "55\n"
          ],
          "name": "stdout"
        }
      ]
    },
    {
      "cell_type": "code",
      "metadata": {
        "id": "yQ8l2aavgsq8",
        "colab_type": "code",
        "colab": {
          "base_uri": "https://localhost:8080/",
          "height": 204
        },
        "outputId": "6050cf4a-3cc5-446d-a8c5-befa694029d0"
      },
      "source": [
        "i = 0\n",
        "b = 0\n",
        "while i<11:\n",
        "  i += 1\n",
        "  b=i+b\n",
        "  print(b)\n"
      ],
      "execution_count": 42,
      "outputs": [
        {
          "output_type": "stream",
          "text": [
            "1\n",
            "3\n",
            "6\n",
            "10\n",
            "15\n",
            "21\n",
            "28\n",
            "36\n",
            "45\n",
            "55\n",
            "66\n"
          ],
          "name": "stdout"
        }
      ]
    },
    {
      "cell_type": "code",
      "metadata": {
        "id": "dqcvnoLohyoF",
        "colab_type": "code",
        "colab": {
          "base_uri": "https://localhost:8080/",
          "height": 34
        },
        "outputId": "ee3cd4af-9ead-4482-b98f-ce88f25de173"
      },
      "source": [
        "limit = 50\n",
        "\n",
        "num = 0\n",
        "while (num + 1)**2 < limit:\n",
        "  num +=1\n",
        "nearest_square = num ** 2\n",
        "print(nearest_square)"
      ],
      "execution_count": 43,
      "outputs": [
        {
          "output_type": "stream",
          "text": [
            "49\n"
          ],
          "name": "stdout"
        }
      ]
    },
    {
      "cell_type": "code",
      "metadata": {
        "id": "3MfovoETdj0r",
        "colab_type": "code",
        "colab": {}
      },
      "source": [
        "for i in range(11):\n",
        "  print(i)"
      ],
      "execution_count": 0,
      "outputs": []
    },
    {
      "cell_type": "code",
      "metadata": {
        "id": "HO9rshNJiXag",
        "colab_type": "code",
        "colab": {
          "base_uri": "https://localhost:8080/",
          "height": 187
        },
        "outputId": "502bdb2d-e039-4095-e423-c0b83ff3c1b0"
      },
      "source": [
        "for i in range(1,21):\n",
        "  if i%2 == 0:\n",
        "    continue;\n",
        "  print(i)"
      ],
      "execution_count": 55,
      "outputs": [
        {
          "output_type": "stream",
          "text": [
            "1\n",
            "3\n",
            "5\n",
            "7\n",
            "9\n",
            "11\n",
            "13\n",
            "15\n",
            "17\n",
            "19\n"
          ],
          "name": "stdout"
        }
      ]
    },
    {
      "cell_type": "code",
      "metadata": {
        "id": "-2O9C96FkRMk",
        "colab_type": "code",
        "colab": {
          "base_uri": "https://localhost:8080/",
          "height": 85
        },
        "outputId": "5c6248ff-c66f-4fcd-ebc2-a6fdf1822c59"
      },
      "source": [
        "name = input(\"名前は入力してください\")\n",
        "age = input(\"何歳ですか\")\n",
        "print(\"あなたの名前は{}!\".format(name.title()))\n",
        "print(\"{}歳です\".format(age.title()))\n",
        "\n"
      ],
      "execution_count": 62,
      "outputs": [
        {
          "output_type": "stream",
          "text": [
            "名前は入力してくださいｓｄｆｇｄｆ\n",
            "何歳ですか55\n",
            "あなたの名前はＳｄｆｇｄｆ!\n",
            "55歳です\n"
          ],
          "name": "stdout"
        }
      ]
    },
    {
      "cell_type": "code",
      "metadata": {
        "id": "Bh_Y73meil5L",
        "colab_type": "code",
        "colab": {}
      },
      "source": [
        ""
      ],
      "execution_count": 0,
      "outputs": []
    }
  ]
}