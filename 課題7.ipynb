{
  "nbformat": 4,
  "nbformat_minor": 0,
  "metadata": {
    "colab": {
      "name": "課題7.ipynb",
      "provenance": [],
      "include_colab_link": true
    },
    "kernelspec": {
      "name": "python3",
      "display_name": "Python 3"
    }
  },
  "cells": [
    {
      "cell_type": "markdown",
      "metadata": {
        "id": "view-in-github",
        "colab_type": "text"
      },
      "source": [
        "<a href=\"https://colab.research.google.com/github/qscfgyuj/Python1/blob/master/%E8%AA%B2%E9%A1%8C7.ipynb\" target=\"_parent\"><img src=\"https://colab.research.google.com/assets/colab-badge.svg\" alt=\"Open In Colab\"/></a>"
      ]
    },
    {
      "cell_type": "code",
      "metadata": {
        "id": "o9ttYVuiZkKf",
        "colab_type": "code",
        "colab": {
          "base_uri": "https://localhost:8080/",
          "height": 68
        },
        "outputId": "0e340e95-eb16-4836-c48d-312a7f5b94af"
      },
      "source": [
        "print(\"xを入力\")\n",
        "x = input()\n",
        "numto = int(x)\n",
        "print(x)\n",
        "\n"
      ],
      "execution_count": 10,
      "outputs": [
        {
          "output_type": "stream",
          "text": [
            "xを入力\n",
            "5\n",
            "5\n"
          ],
          "name": "stdout"
        }
      ]
    },
    {
      "cell_type": "code",
      "metadata": {
        "colab_type": "code",
        "outputId": "6e90eaf3-1f7f-4d49-dc26-4a9208abca06",
        "id": "ccJKNRVfcqZN",
        "colab": {
          "base_uri": "https://localhost:8080/",
          "height": 85
        }
      },
      "source": [
        "print(\"xを入力\")\n",
        "x = input()\n",
        "x = int(x)\n",
        "print(x)\n",
        "if x==0:\n",
        "  print(\"xはゼロ\")\n",
        "elif x>0:\n",
        "  print(\"xは正数\")\n",
        "else:\n",
        "  print(\"xは負数\")\n"
      ],
      "execution_count": 17,
      "outputs": [
        {
          "output_type": "stream",
          "text": [
            "xを入力\n",
            "5\n",
            "5\n",
            "xは正数\n"
          ],
          "name": "stdout"
        }
      ]
    },
    {
      "cell_type": "code",
      "metadata": {
        "id": "rzeGiEigdVE2",
        "colab_type": "code",
        "colab": {
          "base_uri": "https://localhost:8080/",
          "height": 102
        },
        "outputId": "edb982cd-d733-4bf2-b2e5-f710e23190a9"
      },
      "source": [
        "print(\"消費税　1.japan 2.malaysia 3.UK 4.Europe 5.USA\")\n",
        "x = input()\n",
        "x = int(x)\n",
        "print(\"入力してください\")\n",
        "y = input()\n",
        "y = int(y)\n",
        "if(x == 1):\n",
        "  print(y + y * 0.1)\n",
        "if(x == 2):\n",
        "  print(y + y * 0.06)\n",
        "if(x == 3):\n",
        "  print(y + y * 0.14)\n",
        "if(x == 4):\n",
        "  print(y + y * 0.2)\n",
        "if(x == 5):\n",
        "  print(y + y * 0.05)"
      ],
      "execution_count": 30,
      "outputs": [
        {
          "output_type": "stream",
          "text": [
            "消費税　1.japan 2.malaysia 3.UK 4.Europe 5.USA\n",
            "1\n",
            "入力してください\n",
            "500\n",
            "550.0\n"
          ],
          "name": "stdout"
        }
      ]
    },
    {
      "cell_type": "code",
      "metadata": {
        "id": "hzjydB-OjZVw",
        "colab_type": "code",
        "colab": {}
      },
      "source": [
        ""
      ],
      "execution_count": 0,
      "outputs": []
    }
  ]
}