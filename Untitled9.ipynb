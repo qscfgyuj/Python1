{
  "nbformat": 4,
  "nbformat_minor": 0,
  "metadata": {
    "colab": {
      "name": "Untitled9.ipynb",
      "provenance": [],
      "include_colab_link": true
    },
    "kernelspec": {
      "name": "python3",
      "display_name": "Python 3"
    }
  },
  "cells": [
    {
      "cell_type": "markdown",
      "metadata": {
        "id": "view-in-github",
        "colab_type": "text"
      },
      "source": [
        "<a href=\"https://colab.research.google.com/github/qscfgyuj/Python1/blob/master/Untitled9.ipynb\" target=\"_parent\"><img src=\"https://colab.research.google.com/assets/colab-badge.svg\" alt=\"Open In Colab\"/></a>"
      ]
    },
    {
      "cell_type": "code",
      "metadata": {
        "id": "moz3qdhw0g1h",
        "colab_type": "code",
        "colab": {}
      },
      "source": [
        "help(\"modules\")"
      ],
      "execution_count": 0,
      "outputs": []
    },
    {
      "cell_type": "code",
      "metadata": {
        "id": "JXlm2hBB12NN",
        "colab_type": "code",
        "colab": {}
      },
      "source": [
        "from math import *"
      ],
      "execution_count": 0,
      "outputs": []
    },
    {
      "cell_type": "code",
      "metadata": {
        "id": "x95UprgM2Ct6",
        "colab_type": "code",
        "colab": {}
      },
      "source": [
        "a = \"kcgi\"\n",
        "b = \"kcgi\"\n",
        "a = b"
      ],
      "execution_count": 0,
      "outputs": []
    },
    {
      "cell_type": "code",
      "metadata": {
        "id": "TEJjjU0s2Nkg",
        "colab_type": "code",
        "colab": {}
      },
      "source": [
        "multi_line =^^^a\n",
        "b\n",
        "c\n",
        "^^^"
      ],
      "execution_count": 0,
      "outputs": []
    },
    {
      "cell_type": "code",
      "metadata": {
        "id": "xl2sNcQ32yLX",
        "colab_type": "code",
        "colab": {}
      },
      "source": [
        "kcgi=\"the Kyoto College of Graduate studies for infomatics\""
      ],
      "execution_count": 0,
      "outputs": []
    },
    {
      "cell_type": "code",
      "metadata": {
        "id": "3KxOBfw13Gp3",
        "colab_type": "code",
        "colab": {}
      },
      "source": [
        "kcgi.upper()\n",
        "kcgi.lower()\n",
        "kcgi.title()\n",
        "kcgi.capitalize()\n",
        "kcgi.swapcase()\n"
      ],
      "execution_count": 0,
      "outputs": []
    }
  ]
}