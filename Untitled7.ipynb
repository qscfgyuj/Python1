{
  "nbformat": 4,
  "nbformat_minor": 0,
  "metadata": {
    "colab": {
      "name": "Untitled7.ipynb",
      "provenance": [],
      "include_colab_link": true
    },
    "kernelspec": {
      "name": "python3",
      "display_name": "Python 3"
    }
  },
  "cells": [
    {
      "cell_type": "markdown",
      "metadata": {
        "id": "view-in-github",
        "colab_type": "text"
      },
      "source": [
        "<a href=\"https://colab.research.google.com/github/qscfgyuj/Python1/blob/master/Untitled7.ipynb\" target=\"_parent\"><img src=\"https://colab.research.google.com/assets/colab-badge.svg\" alt=\"Open In Colab\"/></a>"
      ]
    },
    {
      "cell_type": "code",
      "metadata": {
        "id": "ZUaLTgaSZ0Vp",
        "colab_type": "code",
        "colab": {
          "base_uri": "https://localhost:8080/",
          "height": 34
        },
        "outputId": "5e481e8a-a319-473b-cd27-ed9eb1fe8b4e"
      },
      "source": [
        "def total(a,b):\n",
        "  c = 3\n",
        "  return a+b+c\n",
        "total(3,7)\n",
        "\n"
      ],
      "execution_count": 7,
      "outputs": [
        {
          "output_type": "execute_result",
          "data": {
            "text/plain": [
              "13"
            ]
          },
          "metadata": {
            "tags": []
          },
          "execution_count": 7
        }
      ]
    },
    {
      "cell_type": "code",
      "metadata": {
        "id": "kF7SrpKvhEKz",
        "colab_type": "code",
        "colab": {
          "base_uri": "https://localhost:8080/",
          "height": 34
        },
        "outputId": "74a76ce8-5afb-423c-eec8-1dd79ec90e3d"
      },
      "source": [
        "def multiply(x,y):\n",
        "  return x*y\n",
        "print(multiply(2,3))"
      ],
      "execution_count": 10,
      "outputs": [
        {
          "output_type": "stream",
          "text": [
            "6\n"
          ],
          "name": "stdout"
        }
      ]
    },
    {
      "cell_type": "code",
      "metadata": {
        "id": "dqvubxOXl_D_",
        "colab_type": "code",
        "colab": {}
      },
      "source": [
        "class Animal:\n",
        "  def _init_(self,animal_name,amounts):\n",
        "    self.animal_name = animal_name\n",
        "    self.amounts = amounts\n",
        "\n",
        "  a1 = Animal(\"ねこ\",4)\n",
        "\n",
        "  print(a1.animal_name)\n",
        "  print(a1.amounts)\n",
        "  "
      ],
      "execution_count": 0,
      "outputs": []
    },
    {
      "cell_type": "code",
      "metadata": {
        "id": "YmsNb3HfpuVO",
        "colab_type": "code",
        "colab": {}
      },
      "source": [
        ""
      ],
      "execution_count": 0,
      "outputs": []
    }
  ]
}